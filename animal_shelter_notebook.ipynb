{
 "cells": [
  {
   "cell_type": "code",
   "execution_count": 516,
   "metadata": {},
   "outputs": [],
   "source": [
    "import pandas as pd\n",
    "import numpy as np\n",
    "from sklearn.model_selection import train_test_split\n",
    "from skopt import BayesSearchCV\n",
    "from sklearn.ensemble import RandomForestClassifier\n",
    "from sklearn.metrics import confusion_matrix, make_scorer, accuracy_score\n",
    "from sklearn.preprocessing import StandardScaler\n",
    "from sklearn.ensemble import IsolationForest\n",
    "import category_encoders as ce\n",
    "import seaborn as sns\n",
    "import matplotlib.pyplot as plt\n",
    "import matplotlib\n",
    "import warnings"
   ]
  },
  {
   "cell_type": "markdown",
   "metadata": {},
   "source": [
    "## All you need is love… And a dog!\n",
    "Here we are going to build a classifier to predict whether an animal from an animal shelter will be adopted or not. You will be working with the following features:\n",
    "\n",
    "- animal_type: Type of animal. May be one of 'cat', 'dog', 'bird', etc.\n",
    "- intake_year: Year of intake\n",
    "- intake_condition: The intake condition of the animal. Can be one of 'normal', 'injured', 'sick', etc.\n",
    "- intake_number: The intake number denoting the number of occurrences the animal has been brought into the shelter. Values higher than 1 indicate the animal has been taken into the shelter on more than one occasion.\n",
    "- intake_type: The type of intake, for example, 'stray', 'owner surrender', etc.\n",
    "- sex_upon_intake: The gender of the animal and if it has been spayed or neutered at the time of intake\n",
    "- age_upon_intake_(years): The age of the animal upon intake represented in years\n",
    "- time_in_shelter_days: Numeric value denoting the number of days the animal remained at the shelter from intake to outcome.\n",
    "- sex_upon_outcome: The gender of the animal and if it has been spayed or neutered at time of outcome\n",
    "- age_upon_outcome_(years): The age of the animal upon outcome represented in years\n",
    "- outcome_type: The outcome type. Can be one of ‘adopted’, ‘transferred’, etc.\n",
    "\n",
    "\n",
    "A) Load the dataset and perform the necesssary preprossessing. Split the data into a training set (80%) and a test set (20%). Pair each feature vector with the corresponding label, i.e., whether the outcome_type is adoption or not. Standardize the values of each feature in the data to have mean 0 and variance 1.\n",
    "\n",
    "B) Train a random forest. Use 3-fold cross-validation on the training set to fine-tune the parameters of the classifier using a grid search on the number of estimators \"n_estimators\" and the max depth of the trees \"max_depth\". For the chosen parameters, estimate the performance of your classifier on the test set by presenting the confusion matrix, the train and test accuracies, and the 10 most important features."
   ]
  },
  {
   "cell_type": "code",
   "execution_count": 517,
   "metadata": {},
   "outputs": [],
   "source": [
    "df = pd.read_csv('aac_intakes_outcomes.csv')"
   ]
  },
  {
   "cell_type": "markdown",
   "metadata": {},
   "source": [
    "# Preprocessing"
   ]
  },
  {
   "cell_type": "code",
   "execution_count": 518,
   "metadata": {},
   "outputs": [],
   "source": [
    "#We first limit the dataframe to the 10 above mentioned features\n",
    "\n",
    "cols = ['animal_type', 'intake_year', 'intake_condition', 'intake_number', 'intake_type', 'sex_upon_intake',\n",
    "        'age_upon_intake_(years)', 'outcome_type']\n",
    "\n",
    "df_clean = df[cols]"
   ]
  },
  {
   "cell_type": "markdown",
   "metadata": {},
   "source": [
    "except for the 'outcome type' feature, which is the one we are trying to predict, I am leaving out the other outcome \n",
    "related features, as in my opinion, it makes no logical sense to keep them in. think about it in this way - if we the try\n",
    "to predict the outcome, how are we supposed know the age at the time of the outcome before we know the actual outcome\n",
    "itself? I see the application of this model in a scenario in which the animal is taken in and then based on the intake \n",
    "features, we predict the outcome. at this point, none of the outcome features in this data set will be available and thus \n",
    "i decide to leave them out."
   ]
  },
  {
   "cell_type": "code",
   "execution_count": 519,
   "metadata": {},
   "outputs": [
    {
     "data": {
      "text/plain": [
       "animal_type                 0\n",
       "intake_year                 0\n",
       "intake_condition            0\n",
       "intake_number               0\n",
       "intake_type                 0\n",
       "sex_upon_intake             1\n",
       "age_upon_intake_(years)     0\n",
       "outcome_type               10\n",
       "dtype: int64"
      ]
     },
     "execution_count": 519,
     "metadata": {},
     "output_type": "execute_result"
    }
   ],
   "source": [
    "# let's next check which of the features contains nan values\n",
    "df_clean.isnull().sum()"
   ]
  },
  {
   "cell_type": "code",
   "execution_count": 520,
   "metadata": {},
   "outputs": [],
   "source": [
    "def nullremover(df, thres1, thres2, target):\n",
    "    len_before = len(df)\n",
    "    print ('number of rows before:', len_before)\n",
    "    for col in list(df.columns):\n",
    "        if df[col].isnull().sum()/(len(df)) <= thres2:\n",
    "            df = df.dropna()\n",
    "        else:\n",
    "            pass\n",
    "        if col != target:\n",
    "            if df[col].isnull().sum()/(len(df)) >= thres1:\n",
    "                df.drop([col], axis=1, inplace=True)\n",
    "            else:\n",
    "                pass\n",
    "    len_after = len(df)\n",
    "    print ('Percentage of missing values for columns')\n",
    "    print((df.isnull().sum()/len(df)*100))\n",
    "    print ('number of rows after:',len_after)\n",
    "    print('number of rows removed:', len_before-len_after)\n",
    "    return df"
   ]
  },
  {
   "cell_type": "code",
   "execution_count": 521,
   "metadata": {},
   "outputs": [
    {
     "name": "stdout",
     "output_type": "stream",
     "text": [
      "number of rows before: 79672\n",
      "Percentage of missing values for columns\n",
      "animal_type                0.0\n",
      "intake_year                0.0\n",
      "intake_condition           0.0\n",
      "intake_number              0.0\n",
      "intake_type                0.0\n",
      "sex_upon_intake            0.0\n",
      "age_upon_intake_(years)    0.0\n",
      "outcome_type               0.0\n",
      "dtype: float64\n",
      "number of rows after: 79661\n",
      "number of rows removed: 11\n"
     ]
    }
   ],
   "source": [
    "df_nonull = nullremover(df_clean, 0.9, 0.2, 'outcome_type')"
   ]
  },
  {
   "cell_type": "markdown",
   "metadata": {},
   "source": [
    "I then write a function that contains 2 thresholds. The first threshold is the percentage of nan values in a column. if the percentage of nan values in a specific column is equal to/higher than the threshold, the entire column gets removed as it is of little use due to its high amount of nan values. the second threshold is also the percentage of nan values in a column. in this case, though, if the percentage of nan values in a specific column is equal to/lower than the threshold, the specific rows with nan values get dropped.\n",
    "\n",
    "In case the percentage of nan values is somewhere in between the 2 thresholds, one should apply some more advanced imputation methods. In this case this is not needed as all nan values have been dealt with by the previously described method."
   ]
  },
  {
   "cell_type": "code",
   "execution_count": 522,
   "metadata": {},
   "outputs": [],
   "source": [
    "transout = []\n",
    "for row in df_nonull['outcome_type'].iteritems():\n",
    "    if row[1] == 'Adoption':\n",
    "        transout.append(1)\n",
    "    else:\n",
    "        transout.append(0)\n",
    "\n",
    "df_nonull.drop('outcome_type', axis=1, inplace=True)\n",
    "df_nonull['outcome_type'] = transout"
   ]
  },
  {
   "cell_type": "markdown",
   "metadata": {},
   "source": [
    "We next transform our target feature into the desired format by iterating over the rows and appending the value 1 to a list, whenever the outcome type is \"Adoption\" and 0 when it isn't. Then we append this list to our dataframe as a column."
   ]
  },
  {
   "cell_type": "code",
   "execution_count": 523,
   "metadata": {},
   "outputs": [],
   "source": [
    "X_train, X_test, y_train, y_test = train_test_split(df_nonull.drop('outcome_type', axis=1), df_nonull['outcome_type'], test_size=0.175, random_state=42, \n",
    "                                                    stratify=df_nonull['outcome_type'])\n",
    "\n",
    "df_train = pd.concat([X_train, y_train], axis=1)\n",
    "df_test = pd.concat([X_test, y_test], axis=1)"
   ]
  },
  {
   "cell_type": "code",
   "execution_count": 524,
   "metadata": {},
   "outputs": [],
   "source": [
    "def isolation_outlier(df):\n",
    "    print('dataset with outliers:', len(df))\n",
    "    isof = IsolationForest(max_samples=1000, contamination=.075)\n",
    "    isof.fit(df.select_dtypes(include=np.number))\n",
    "    listpred = isof.predict(df.select_dtypes(include=np.number))\n",
    "    df['outlier'] = listpred\n",
    "    df = df.loc[df['outlier'] == 1]\n",
    "    df.drop('outlier', axis=1, inplace=True)\n",
    "    print('dataset without outliers:', len(df))\n",
    "    return df"
   ]
  },
  {
   "cell_type": "markdown",
   "metadata": {},
   "source": [
    "next we look at multivariate outliers for the numeric features and use the isolation forest algorithm to partition the feature space, so that outliers are isolated and hence identified and removed. The algorithm parameters are heuristically chosen and can change depending on the data set."
   ]
  },
  {
   "cell_type": "code",
   "execution_count": 525,
   "metadata": {},
   "outputs": [
    {
     "name": "stdout",
     "output_type": "stream",
     "text": [
      "dataset with outliers: 65720\n",
      "dataset without outliers: 60809\n"
     ]
    },
    {
     "name": "stderr",
     "output_type": "stream",
     "text": [
      "/opt/anaconda3/lib/python3.7/site-packages/pandas/core/frame.py:3997: SettingWithCopyWarning: \n",
      "A value is trying to be set on a copy of a slice from a DataFrame\n",
      "\n",
      "See the caveats in the documentation: https://pandas.pydata.org/pandas-docs/stable/user_guide/indexing.html#returning-a-view-versus-a-copy\n",
      "  errors=errors,\n"
     ]
    }
   ],
   "source": [
    "df_train_outlier = isolation_outlier(df_train)"
   ]
  },
  {
   "cell_type": "code",
   "execution_count": 526,
   "metadata": {},
   "outputs": [],
   "source": [
    "bincols = ['animal_type', 'intake_condition', 'intake_type', 'sex_upon_intake']"
   ]
  },
  {
   "cell_type": "code",
   "execution_count": 527,
   "metadata": {},
   "outputs": [
    {
     "data": {
      "text/plain": [
       "GLMMEncoder(binomial_target=None,\n",
       "            cols=['animal_type', 'intake_condition', 'intake_type',\n",
       "                  'sex_upon_intake'],\n",
       "            drop_invariant=True, handle_missing='value', handle_unknown='value',\n",
       "            random_state=None, randomized=False, return_df=True, sigma=0.05,\n",
       "            verbose=0)"
      ]
     },
     "execution_count": 527,
     "metadata": {},
     "output_type": "execute_result"
    }
   ],
   "source": [
    "be = ce.GLMMEncoder(cols=bincols, drop_invariant=True)\n",
    "be.fit(df_train_outlier, df_train_outlier['outcome_type'])"
   ]
  },
  {
   "cell_type": "code",
   "execution_count": 528,
   "metadata": {},
   "outputs": [],
   "source": [
    "df_train_bin = be.transform(df_train_outlier)\n",
    "df_test_bin = be.transform(df_test)"
   ]
  },
  {
   "cell_type": "markdown",
   "metadata": {},
   "source": [
    "Next up are the categorical features. We use Generalized Linear Mixed Model Encoder, which is an advanced method of encoding categorical features. In this of a binomial target the encoder returns regularized log odds per category. Because it is a supervised encoding, we transform both training and test data, but fit only on the training data to avoid data leakage."
   ]
  },
  {
   "cell_type": "code",
   "execution_count": 529,
   "metadata": {},
   "outputs": [],
   "source": [
    "scalecols = ['age_upon_intake_(years)', 'intake_number', 'intake_year']"
   ]
  },
  {
   "cell_type": "code",
   "execution_count": 530,
   "metadata": {},
   "outputs": [],
   "source": [
    "ss = StandardScaler()\n",
    "ss.fit(df_train_bin[scalecols])\n",
    "\n",
    "scaled_train_data = ss.transform(df_train_bin[scalecols])\n",
    "scaled_test_data = ss.transform(df_test_bin[scalecols])\n",
    "\n",
    "scaled_train_df = pd.DataFrame(scaled_train_data, columns=scalecols)\n",
    "scaled_test_df = pd.DataFrame(scaled_test_data, columns=scalecols)\n",
    "\n",
    "df_train_bin = df_train_bin.drop(scalecols, axis=1).reset_index()\n",
    "df_train_scaled = pd.concat([df_train_bin, scaled_train_df], axis=1)\n",
    "df_train_scaled.drop('index', axis=1, inplace=True)\n",
    "\n",
    "df_test_bin = df_test_bin.drop(scalecols, axis=1).reset_index()\n",
    "df_test_scaled = pd.concat([df_test_bin, scaled_test_df], axis=1)\n",
    "df_test_scaled.drop('index', axis=1, inplace=True)"
   ]
  },
  {
   "cell_type": "markdown",
   "metadata": {},
   "source": [
    "For the scaling of the numeric feature, we use Standard 0 mean, 1 variance scaling."
   ]
  },
  {
   "cell_type": "markdown",
   "metadata": {},
   "source": [
    "# Baseline"
   ]
  },
  {
   "cell_type": "code",
   "execution_count": 531,
   "metadata": {},
   "outputs": [
    {
     "data": {
      "image/png": "[encoded data removed]",
      "text/plain": [
       "<Figure size 1728x576 with 1 Axes>"
      ]
     },
     "metadata": {},
     "output_type": "display_data"
    }
   ],
   "source": [
    "plt.figure(figsize=(24, 8))\n",
    "sns.set(font_scale=2)\n",
    "ax = sns.barplot(x=\"outcome_type\", y=\"outcome_type\", data=df_train_scaled, estimator=lambda x: len(x) / len(df_train_scaled) * 100)\n",
    "ax.set(ylabel=\"Percent\")\n",
    "plt.show()"
   ]
  },
  {
   "cell_type": "code",
   "execution_count": 532,
   "metadata": {},
   "outputs": [
    {
     "name": "stdout",
     "output_type": "stream",
     "text": [
      "baseline accuracy in percent\n"
     ]
    },
    {
     "data": {
      "text/plain": [
       "57.99999999999999"
      ]
     },
     "execution_count": 532,
     "metadata": {},
     "output_type": "execute_result"
    }
   ],
   "source": [
    "print('baseline accuracy in percent')\n",
    "np.round(len(df_train_scaled[df_train_scaled['outcome_type']==0])/len(df_train_scaled),2)*100"
   ]
  },
  {
   "cell_type": "markdown",
   "metadata": {},
   "source": [
    "Before we start the training, we need a baseline against which we can measure our model's performance. A quick and easy solution is to take the percentage of the majority and use this is the baseline. The logic behind this is that a lazy classifier, which only predicts the majority class, would have an accuracy equal to the percentage of datapoints of the majority class.\n",
    "\n",
    "In this case the baseline is around 58%."
   ]
  },
  {
   "cell_type": "code",
   "execution_count": 533,
   "metadata": {},
   "outputs": [],
   "source": [
    "X_train_final = df_train_scaled.drop('outcome_type', axis=1)\n",
    "y_train_final = df_train_scaled['outcome_type']\n",
    "\n",
    "X_test_final = df_test_scaled.drop('outcome_type', axis=1)\n",
    "y_test_final = df_test_scaled['outcome_type']"
   ]
  },
  {
   "cell_type": "code",
   "execution_count": 534,
   "metadata": {},
   "outputs": [
    {
     "data": {
      "text/plain": [
       "0.81"
      ]
     },
     "execution_count": 534,
     "metadata": {},
     "output_type": "execute_result"
    }
   ],
   "source": [
    "round(len(X_train_final)/(len(X_train_final)+len(X_test_final)),2)"
   ]
  },
  {
   "cell_type": "markdown",
   "metadata": {},
   "source": [
    "During the train/test split, you might have noticed that the split was not a perfect 80/20 but more a 82.5/17.5. The reason for this was that we dropped some rows during the outlier detection afterwards, which would have resulted in a split lower than 80/20, if he had indicated this in train/test split. Here you can see that the split before CV is now 81/21, so basically 80/20."
   ]
  },
  {
   "cell_type": "markdown",
   "metadata": {},
   "source": [
    "# Hyperparameter Tuning and K-Fold Cross Validation"
   ]
  },
  {
   "cell_type": "code",
   "execution_count": 535,
   "metadata": {},
   "outputs": [],
   "source": [
    "params_rf = {\"n_estimators\": [1,10,50,100,200],\n",
    "              \"max_depth\": list(range(1, 16))\n",
    "              }\n",
    "\n",
    "rf = RandomForestClassifier()\n",
    "acs = make_scorer(accuracy_score, greater_is_better=True)\n",
    "bcv = BayesSearchCV(rf, params_rf,cv=3, n_iter=50, random_state=42, verbose=0, n_jobs=1, n_points=50, scoring=acs)"
   ]
  },
  {
   "cell_type": "code",
   "execution_count": 536,
   "metadata": {},
   "outputs": [],
   "source": [
    "with warnings.catch_warnings():\n",
    "    #The Bayes Optimizer Library throws some pretty lenghty FutureWarnings during fitting. We will ignore them.\n",
    "    warnings.filterwarnings(\"ignore\")\n",
    "    bcv.fit(X_train_final, y_train_final)"
   ]
  },
  {
   "cell_type": "code",
   "execution_count": 537,
   "metadata": {},
   "outputs": [
    {
     "data": {
      "text/plain": [
       "71.7"
      ]
     },
     "execution_count": 537,
     "metadata": {},
     "output_type": "execute_result"
    }
   ],
   "source": [
    "np.round(bcv.best_score_,3)*100"
   ]
  },
  {
   "cell_type": "markdown",
   "metadata": {},
   "source": [
    "We then set up the parameters for our Random Forest Classifier and use Bayesian Hyperparameter Optimization with 3-Fold Cross Validation to find the best parameters and preliminarily test the model's performance. I prefer Bayesian CV over GridSearch, because it converges on the optimal parameter space much faster as it uses logic to get there, while GridSearch is basically \"brute force\"\n",
    "\n",
    "The mean accuracy of our optimized algorithm over all 3 folds is 71.7%, which is higher than our baseline."
   ]
  },
  {
   "cell_type": "code",
   "execution_count": 538,
   "metadata": {},
   "outputs": [
    {
     "data": {
      "text/plain": [
       "RandomForestClassifier(bootstrap=True, ccp_alpha=0.0, class_weight=None,\n",
       "                       criterion='gini', max_depth=13, max_features='auto',\n",
       "                       max_leaf_nodes=None, max_samples=None,\n",
       "                       min_impurity_decrease=0.0, min_impurity_split=None,\n",
       "                       min_samples_leaf=1, min_samples_split=2,\n",
       "                       min_weight_fraction_leaf=0.0, n_estimators=50,\n",
       "                       n_jobs=None, oob_score=False, random_state=None,\n",
       "                       verbose=0, warm_start=False)"
      ]
     },
     "execution_count": 538,
     "metadata": {},
     "output_type": "execute_result"
    }
   ],
   "source": [
    "rf_best = bcv.best_estimator_\n",
    "rf_best.fit(X_train_final, y_train_final)"
   ]
  },
  {
   "cell_type": "markdown",
   "metadata": {},
   "source": [
    "# Prediction and Evaluation"
   ]
  },
  {
   "cell_type": "code",
   "execution_count": 539,
   "metadata": {},
   "outputs": [],
   "source": [
    "y_pred = rf_best.predict(X_test_final)"
   ]
  },
  {
   "cell_type": "code",
   "execution_count": 540,
   "metadata": {},
   "outputs": [
    {
     "name": "stdout",
     "output_type": "stream",
     "text": [
      "test data accuracy: 70.99 %\n"
     ]
    }
   ],
   "source": [
    "acc = accuracy_score(y_test_final, y_pred)\n",
    "print('test data accuracy:', np.round(acc,4)*100,'%')"
   ]
  },
  {
   "cell_type": "markdown",
   "metadata": {},
   "source": [
    "After training on the entire training data set on optimized hyperparameters, we then predict on the never before seen test data and achieve an almost equal accuracy of 71%, which also indicates no over nor underfitting."
   ]
  },
  {
   "cell_type": "code",
   "execution_count": 541,
   "metadata": {},
   "outputs": [
    {
     "data": {
      "text/html": [
       "<div>\n",
       "<style scoped>\n",
       "    .dataframe tbody tr th:only-of-type {\n",
       "        vertical-align: middle;\n",
       "    }\n",
       "\n",
       "    .dataframe tbody tr th {\n",
       "        vertical-align: top;\n",
       "    }\n",
       "\n",
       "    .dataframe thead th {\n",
       "        text-align: right;\n",
       "    }\n",
       "</style>\n",
       "<table border=\"1\" class=\"dataframe\">\n",
       "  <thead>\n",
       "    <tr style=\"text-align: right;\">\n",
       "      <th>actual</th>\n",
       "      <th>0</th>\n",
       "      <th>1</th>\n",
       "    </tr>\n",
       "    <tr>\n",
       "      <th>predicted</th>\n",
       "      <th></th>\n",
       "      <th></th>\n",
       "    </tr>\n",
       "  </thead>\n",
       "  <tbody>\n",
       "    <tr>\n",
       "      <th>0</th>\n",
       "      <td>5958</td>\n",
       "      <td>1940</td>\n",
       "    </tr>\n",
       "    <tr>\n",
       "      <th>1</th>\n",
       "      <td>2104</td>\n",
       "      <td>3939</td>\n",
       "    </tr>\n",
       "  </tbody>\n",
       "</table>\n",
       "</div>"
      ],
      "text/plain": [
       "actual        0     1\n",
       "predicted            \n",
       "0          5958  1940\n",
       "1          2104  3939"
      ]
     },
     "execution_count": 541,
     "metadata": {},
     "output_type": "execute_result"
    }
   ],
   "source": [
    "pd.crosstab(y_pred, y_test_final, \n",
    "            rownames=['predicted'], \n",
    "            colnames=['actual'], margins=False, margins_name=\"Total\")"
   ]
  },
  {
   "cell_type": "markdown",
   "metadata": {},
   "source": [
    "Looking at the confusion matrix, we also notice that false positives and negatives are almost the same in absolute terms."
   ]
  },
  {
   "cell_type": "markdown",
   "metadata": {},
   "source": [
    "# Feature Importance"
   ]
  },
  {
   "cell_type": "code",
   "execution_count": 542,
   "metadata": {},
   "outputs": [
    {
     "data": {
      "text/plain": [
       "Text(0.5, 0, 'Random Forest Feature Importance')"
      ]
     },
     "execution_count": 542,
     "metadata": {},
     "output_type": "execute_result"
    },
    {
     "data": {
      "image/png": "[encoded data removed]",
      "text/plain": [
       "<Figure size 1728x576 with 1 Axes>"
      ]
     },
     "metadata": {},
     "output_type": "display_data"
    }
   ],
   "source": [
    "sorted_idx = rf_best.feature_importances_.argsort()\n",
    "plt.figure(figsize=(24, 8))\n",
    "plt.barh(X_train_final.columns[sorted_idx], rf_best.feature_importances_[sorted_idx])\n",
    "plt.xlabel(\"Random Forest Feature Importance\")"
   ]
  },
  {
   "cell_type": "code",
   "execution_count": 543,
   "metadata": {},
   "outputs": [],
   "source": [
    "abc = list(zip(X_train_final.columns[sorted_idx], np.round(rf_best.feature_importances_[sorted_idx],2)))"
   ]
  },
  {
   "cell_type": "code",
   "execution_count": 544,
   "metadata": {},
   "outputs": [
    {
     "data": {
      "text/plain": [
       "[('intake_number', 0.03),\n",
       " ('intake_condition', 0.06),\n",
       " ('intake_year', 0.07),\n",
       " ('animal_type', 0.09),\n",
       " ('intake_type', 0.2),\n",
       " ('sex_upon_intake', 0.23),\n",
       " ('age_upon_intake_(years)', 0.31)]"
      ]
     },
     "execution_count": 544,
     "metadata": {},
     "output_type": "execute_result"
    }
   ],
   "source": [
    "sorted(abc, key=lambda x: x[1])"
   ]
  },
  {
   "cell_type": "markdown",
   "metadata": {},
   "source": [
    "Here are the feature Importance scores\n",
    "\n",
    "- age_upon_intake_(years): 0.31\n",
    "- sex_upon_intake: 0.23\n",
    "- intake_type: 0.2\n",
    "- animal_type: 0.09\n",
    "- intake_condition: 0.07\n",
    "- intake_year: 0.06\n",
    "- intake_number: 0.03"
   ]
  }
 ],
 "metadata": {
  "kernelspec": {
   "display_name": "Python 3",
   "language": "python",
   "name": "python3"
  },
  "language_info": {
   "codemirror_mode": {
    "name": "ipython",
    "version": 3
   },
   "file_extension": ".py",
   "mimetype": "text/x-python",
   "name": "python",
   "nbconvert_exporter": "python",
   "pygments_lexer": "ipython3",
   "version": "3.7.6"
  }
 },
 "nbformat": 4,
 "nbformat_minor": 4
}
